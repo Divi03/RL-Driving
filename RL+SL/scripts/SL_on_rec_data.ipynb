{
 "cells": [
  {
   "cell_type": "markdown",
   "metadata": {},
   "source": [
    "# Using PPO's recorded data"
   ]
  },
  {
   "cell_type": "code",
   "execution_count": null,
   "metadata": {},
   "outputs": [],
   "source": [
    "import pandas as pd\n",
    "import numpy as np\n",
    "import tensorflow as tf\n",
    "from keras import layers, models\n",
    "\n",
    "import pickle\n",
    "\n",
    "# Load the Pickle file\n",
    "with open('training_data.pkl', mode='rb') as file:\n",
    "    while True:\n",
    "        try:\n",
    "            data = pickle.load(file)\n",
    "            timestamp = data['timestamp']\n",
    "            episode = data['episode']\n",
    "            step = data['step']\n",
    "            state = data['state']\n",
    "            action = data['action']\n",
    "            reward = data['reward']\n",
    "\n",
    "            # Now you can use this data, e.g., for training your model\n",
    "            print(f\"Episode {episode}, Step {step}, Reward {reward}\")\n",
    "\n",
    "        except EOFError:\n",
    "            break  # End of file reached\n"
   ]
  },
  {
   "cell_type": "code",
   "execution_count": null,
   "metadata": {},
   "outputs": [],
   "source": [
    "# Build the model using tf.keras.Sequential\n",
    "model = models.Sequential()\n",
    "\n",
    "# Convolutional layers (cnn_base)\n",
    "model.add(layers.Conv2D(8, kernel_size=4, strides=2, activation='relu', input_shape=(96, 96, 3)))  # Input shape: (96, 96, 3)\n",
    "model.add(layers.Conv2D(16, kernel_size=3, strides=2, activation='relu'))\n",
    "model.add(layers.Conv2D(32, kernel_size=3, strides=2, activation='relu'))\n",
    "model.add(layers.Conv2D(64, kernel_size=3, strides=2, activation='relu'))\n",
    "model.add(layers.Conv2D(128, kernel_size=3, strides=1, activation='relu'))\n",
    "model.add(layers.Conv2D(256, kernel_size=3, strides=1, activation='relu'))\n",
    "\n",
    "# Flatten the output of convolutional layers\n",
    "model.add(layers.Flatten())\n",
    "\n",
    "# Fully connected layer\n",
    "model.add(layers.Dense(100, activation='relu'))\n",
    "\n",
    "# Output layer: 4 actions (for CarRacing-v2, you might have discrete actions like left, right, straight, accelerate)\n",
    "model.add(layers.Dense(3, activation='softmax'))  # Softmax for discrete action classification\n",
    "\n",
    "# Compile the model\n",
    "model.compile(optimizer=tf.keras.optimizers.Adam(learning_rate=1e-4), \n",
    "              loss='sparse_categorical_crossentropy',  # For discrete actions\n",
    "              metrics=['accuracy'])\n",
    "\n",
    "# Model summary\n",
    "model.summary()\n",
    "\n",
    "# Train the model\n",
    "model.fit(X, y, batch_size=32, epochs=10)\n"
   ]
  },
  {
   "cell_type": "code",
   "execution_count": null,
   "metadata": {},
   "outputs": [],
   "source": [
    "# Assuming you have new data (or test data) in a similar format as the training data\n",
    "test_data = pd.read_csv('ppo_test_data.csv')\n",
    "\n",
    "# Process the test data similarly as the training data\n",
    "test_states = test_data['state'].values\n",
    "test_actions = test_data['action'].values\n",
    "test_states = [np.array(eval(state)) for state in test_states]\n",
    "test_X = np.array([preprocess_state(state) for state in test_states])\n",
    "test_y = np.array(test_actions)\n",
    "\n",
    "# Evaluate the model on the test set\n",
    "model.evaluate(test_X, test_y)\n"
   ]
  }
 ],
 "metadata": {
  "kernelspec": {
   "display_name": "myenv38",
   "language": "python",
   "name": "python3"
  },
  "language_info": {
   "codemirror_mode": {
    "name": "ipython",
    "version": 3
   },
   "file_extension": ".py",
   "mimetype": "text/x-python",
   "name": "python",
   "nbconvert_exporter": "python",
   "pygments_lexer": "ipython3",
   "version": "3.8.20"
  }
 },
 "nbformat": 4,
 "nbformat_minor": 2
}
